{
  "nbformat": 4,
  "nbformat_minor": 0,
  "metadata": {
    "colab": {
      "name": "Aula3_Python_PLN.ipynb",
      "provenance": [],
      "collapsed_sections": [],
      "authorship_tag": "ABX9TyOdK+WvDqiB5Gi/I8LtKGmH",
      "include_colab_link": true
    },
    "kernelspec": {
      "name": "python3",
      "display_name": "Python 3"
    },
    "language_info": {
      "name": "python"
    }
  },
  "cells": [
    {
      "cell_type": "markdown",
      "metadata": {
        "id": "view-in-github",
        "colab_type": "text"
      },
      "source": [
        "<a href=\"https://colab.research.google.com/github/luanaduyen/python_PNL/blob/main/Aula3_Python_PLN.ipynb\" target=\"_parent\"><img src=\"https://colab.research.google.com/assets/colab-badge.svg\" alt=\"Open In Colab\"/></a>"
      ]
    },
    {
      "cell_type": "code",
      "metadata": {
        "id": "gWGl7fm4c7QL"
      },
      "source": [
        "y = \"Luana Duyen\"\n",
        "print(y)"
      ],
      "execution_count": null,
      "outputs": []
    },
    {
      "cell_type": "code",
      "metadata": {
        "id": "B3KkYcndjf2U"
      },
      "source": [
        "type(y)\n",
        "#it shows the type of the variable"
      ],
      "execution_count": null,
      "outputs": []
    },
    {
      "cell_type": "code",
      "metadata": {
        "id": "i0iWDs9Vk3-O"
      },
      "source": [
        "v1 = \"1\"\n",
        "v2 = 1\n",
        "v1 + v2\n",
        "#Python doesn't allow operations with variables of different types"
      ],
      "execution_count": null,
      "outputs": []
    },
    {
      "cell_type": "code",
      "metadata": {
        "id": "CgcalXvUnZYp"
      },
      "source": [
        "for i in range(5):\n",
        "  print(i)"
      ],
      "execution_count": null,
      "outputs": []
    },
    {
      "cell_type": "code",
      "metadata": {
        "colab": {
          "base_uri": "https://localhost:8080/"
        },
        "id": "DRgDDmM6oOGv",
        "outputId": "7fc5dc50-a4d0-4737-bc7e-6ffe1dc643d0"
      },
      "source": [
        "lista = []\n",
        "lista = list(range(5))\n",
        "print(lista)\n",
        "print (type(list))"
      ],
      "execution_count": null,
      "outputs": [
        {
          "output_type": "stream",
          "name": "stdout",
          "text": [
            "[0, 1, 2, 3, 4]\n",
            "<class 'type'>\n"
          ]
        }
      ]
    },
    {
      "cell_type": "code",
      "metadata": {
        "id": "Xc3uv_Ywso25"
      },
      "source": [
        "lista.append(10000)\n",
        "print(lista)"
      ],
      "execution_count": null,
      "outputs": []
    },
    {
      "cell_type": "code",
      "metadata": {
        "colab": {
          "base_uri": "https://localhost:8080/"
        },
        "id": "SvpeB2s9syUt",
        "outputId": "cd03165e-63a1-4944-8b22-237035be48c8"
      },
      "source": [
        "lista[1] =1 0\n",
        "print(lista)"
      ],
      "execution_count": null,
      "outputs": [
        {
          "output_type": "stream",
          "name": "stdout",
          "text": [
            "[0, 10, 2, 3, 4, 10000]\n"
          ]
        }
      ]
    },
    {
      "cell_type": "code",
      "metadata": {
        "colab": {
          "base_uri": "https://localhost:8080/"
        },
        "id": "pznMYOfXtTIc",
        "outputId": "ad80467f-21ab-4787-eb75-d66862a97b9c"
      },
      "source": [
        "lista.insert(0,6)\n",
        "print(lista)"
      ],
      "execution_count": null,
      "outputs": [
        {
          "output_type": "stream",
          "name": "stdout",
          "text": [
            "[6, 0, 10, 2, 3, 4, 10000]\n"
          ]
        }
      ]
    },
    {
      "cell_type": "code",
      "metadata": {
        "colab": {
          "base_uri": "https://localhost:8080/"
        },
        "id": "YiRKL90kuLHc",
        "outputId": "506d5472-cf8d-4800-dd2e-461a493ffbf4"
      },
      "source": [
        "lista.reverse()\n",
        "print(lista)"
      ],
      "execution_count": null,
      "outputs": [
        {
          "output_type": "stream",
          "name": "stdout",
          "text": [
            "[10000, 4, 3, 2, 10, 0, 6]\n"
          ]
        }
      ]
    },
    {
      "cell_type": "code",
      "metadata": {
        "colab": {
          "base_uri": "https://localhost:8080/"
        },
        "id": "KbG0gMC-wOSS",
        "outputId": "3ff21c7f-4b51-4157-be2e-9dd061159a24"
      },
      "source": [
        "lista.sort()\n",
        "print(lista)"
      ],
      "execution_count": null,
      "outputs": [
        {
          "output_type": "stream",
          "name": "stdout",
          "text": [
            "[0, 2, 3, 4, 6, 10, 10000]\n"
          ]
        }
      ]
    },
    {
      "cell_type": "code",
      "metadata": {
        "colab": {
          "base_uri": "https://localhost:8080/"
        },
        "id": "QhjVZRuKwpun",
        "outputId": "71784436-7325-48d2-d006-d5dc4d38c1e3"
      },
      "source": [
        "lista.count(6)\n",
        "\n",
        "#it shows how many times the number 6 appeared in the list "
      ],
      "execution_count": null,
      "outputs": [
        {
          "output_type": "execute_result",
          "data": {
            "text/plain": [
              "1"
            ]
          },
          "metadata": {},
          "execution_count": 15
        }
      ]
    },
    {
      "cell_type": "code",
      "metadata": {
        "colab": {
          "base_uri": "https://localhost:8080/"
        },
        "id": "sRmODxgzxEXO",
        "outputId": "f2bd685a-164f-45cd-9c5f-fd9a098b18da"
      },
      "source": [
        "lista.index(6)"
      ],
      "execution_count": null,
      "outputs": [
        {
          "output_type": "execute_result",
          "data": {
            "text/plain": [
              "4"
            ]
          },
          "metadata": {},
          "execution_count": 16
        }
      ]
    },
    {
      "cell_type": "code",
      "metadata": {
        "colab": {
          "base_uri": "https://localhost:8080/"
        },
        "id": "64OOzz-NxKKv",
        "outputId": "240272a3-b339-496b-bb13-c39f57b0097c"
      },
      "source": [
        "lista2 = list(range(10))\n",
        "print(lista2)\n",
        "print(lista2[2:7])\n",
        "print(lista2[2:7:2])\n",
        "\n",
        "#it shows the 2nd to the 7th element and skips each 2 elements"
      ],
      "execution_count": null,
      "outputs": [
        {
          "output_type": "stream",
          "name": "stdout",
          "text": [
            "[0, 1, 2, 3, 4, 5, 6, 7, 8, 9]\n",
            "[2, 3, 4, 5, 6]\n",
            "[2, 4, 6]\n"
          ]
        }
      ]
    },
    {
      "cell_type": "code",
      "metadata": {
        "colab": {
          "base_uri": "https://localhost:8080/"
        },
        "id": "G-fIfoAS7-C7",
        "outputId": "299a9c9d-8b7a-45a5-c3f3-50a3e4b4f6e9"
      },
      "source": [
        "lista3 = ['apple','orange','banana','pineapple']\n",
        "lista3.sort()\n",
        "print(lista3)"
      ],
      "execution_count": null,
      "outputs": [
        {
          "output_type": "stream",
          "name": "stdout",
          "text": [
            "['apple', 'banana', 'orange', 'pineapple']\n"
          ]
        }
      ]
    },
    {
      "cell_type": "code",
      "metadata": {
        "colab": {
          "base_uri": "https://localhost:8080/"
        },
        "id": "WCCEu2Pn96-j",
        "outputId": "912804ab-5b44-4e3a-cbac-f8f91c7d5624"
      },
      "source": [
        "t = (1,'apple',2,'banana')\n",
        "print(t)\n"
      ],
      "execution_count": null,
      "outputs": [
        {
          "output_type": "stream",
          "name": "stdout",
          "text": [
            "(1, 'apple', 2, 'banana')\n"
          ]
        }
      ]
    },
    {
      "cell_type": "code",
      "metadata": {
        "id": "xajA5d66AXc8"
      },
      "source": [
        "[['apple',1],['banana',6],['orange',3]]\n"
      ],
      "execution_count": null,
      "outputs": []
    },
    {
      "cell_type": "code",
      "metadata": {
        "colab": {
          "base_uri": "https://localhost:8080/"
        },
        "id": "e0h-w0qeApt2",
        "outputId": "448f2410-84eb-4a09-bfdb-28891fc09a9f"
      },
      "source": [
        "dic = {}\n",
        "dic['apple']=1\n",
        "dic['banana']=6\n",
        "dic['orange']=3\n",
        "print(dic)\n",
        "\n",
        "dic['orange']"
      ],
      "execution_count": null,
      "outputs": [
        {
          "output_type": "stream",
          "name": "stdout",
          "text": [
            "{'apple': 1, 'banana': 6, 'orange': 3}\n"
          ]
        },
        {
          "output_type": "execute_result",
          "data": {
            "text/plain": [
              "3"
            ]
          },
          "metadata": {},
          "execution_count": 26
        }
      ]
    },
    {
      "cell_type": "code",
      "metadata": {
        "colab": {
          "base_uri": "https://localhost:8080/"
        },
        "id": "EzfwtHVWCadY",
        "outputId": "0a7c3867-7dd8-460e-8605-3ffa4478c1f6"
      },
      "source": [
        "print(dic.keys())"
      ],
      "execution_count": null,
      "outputs": [
        {
          "output_type": "stream",
          "name": "stdout",
          "text": [
            "dict_keys(['apple', 'banana', 'orange'])\n"
          ]
        }
      ]
    },
    {
      "cell_type": "code",
      "metadata": {
        "colab": {
          "base_uri": "https://localhost:8080/"
        },
        "id": "1PX9amW8CveW",
        "outputId": "39771938-50af-40c6-bf32-47d444d0bea8"
      },
      "source": [
        "print(dic.values())"
      ],
      "execution_count": null,
      "outputs": [
        {
          "output_type": "stream",
          "name": "stdout",
          "text": [
            "dict_values([1, 6, 3])\n"
          ]
        }
      ]
    },
    {
      "cell_type": "code",
      "metadata": {
        "colab": {
          "base_uri": "https://localhost:8080/"
        },
        "id": "o_nu8Mo2DLJ2",
        "outputId": "bdeeb3be-281e-4610-befb-04a2900cb3a3"
      },
      "source": [
        "list(dic.keys())"
      ],
      "execution_count": null,
      "outputs": [
        {
          "output_type": "execute_result",
          "data": {
            "text/plain": [
              "['apple', 'banana', 'orange']"
            ]
          },
          "metadata": {},
          "execution_count": 31
        }
      ]
    },
    {
      "cell_type": "code",
      "metadata": {
        "colab": {
          "base_uri": "https://localhost:8080/",
          "height": 35
        },
        "id": "N5CgDymODydF",
        "outputId": "ae9ba58d-c161-4983-ce13-7b58cb203435"
      },
      "source": [
        "list(dic.keys())[0]"
      ],
      "execution_count": null,
      "outputs": [
        {
          "output_type": "execute_result",
          "data": {
            "application/vnd.google.colaboratory.intrinsic+json": {
              "type": "string"
            },
            "text/plain": [
              "'apple'"
            ]
          },
          "metadata": {},
          "execution_count": 32
        }
      ]
    },
    {
      "cell_type": "code",
      "metadata": {
        "colab": {
          "base_uri": "https://localhost:8080/"
        },
        "id": "xdm2AnkaGjbS",
        "outputId": "4a4026e3-2574-4e49-d29d-605bcb6fcd57"
      },
      "source": [
        "list(dic.items())"
      ],
      "execution_count": null,
      "outputs": [
        {
          "output_type": "execute_result",
          "data": {
            "text/plain": [
              "[('apple', 1), ('banana', 6), ('orange', 3)]"
            ]
          },
          "metadata": {},
          "execution_count": 33
        }
      ]
    },
    {
      "cell_type": "code",
      "metadata": {
        "colab": {
          "base_uri": "https://localhost:8080/"
        },
        "id": "hBzRG4fQGrgM",
        "outputId": "91d88e1a-6fea-45be-afcf-81608f4f080f"
      },
      "source": [
        "for chave, quantidade in dic.items():\n",
        "  print(chave,'its quantity is', quantidade)"
      ],
      "execution_count": null,
      "outputs": [
        {
          "output_type": "stream",
          "name": "stdout",
          "text": [
            "apple its quantity is 1\n",
            "banana its quantity is 6\n",
            "orange its quantity is 3\n"
          ]
        }
      ]
    }
  ]
}