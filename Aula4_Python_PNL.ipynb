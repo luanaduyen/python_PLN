{
  "nbformat": 4,
  "nbformat_minor": 0,
  "metadata": {
    "colab": {
      "name": "Aula4_Python_PNL.ipynb",
      "provenance": [],
      "collapsed_sections": [],
      "authorship_tag": "ABX9TyNst9RDlpnkGsPD07w4NAx0"
    },
    "kernelspec": {
      "name": "python3",
      "display_name": "Python 3"
    },
    "language_info": {
      "name": "python"
    }
  },
  "cells": [
    {
      "cell_type": "markdown",
      "metadata": {
        "id": "i5Buzo6FkEh_"
      },
      "source": [
        "Python é uma linguagem forte, então não é possível concatenar str e float. Para resolver isso, é feito um cast."
      ]
    },
    {
      "cell_type": "code",
      "metadata": {
        "colab": {
          "base_uri": "https://localhost:8080/"
        },
        "id": "CPQQSZu7i7EL",
        "outputId": "ffca8a8c-23ab-46df-8e9d-27deb3bc65da"
      },
      "source": [
        "pi = 3.24\n",
        "info = \"O valor de pi é = \" + str(pi)\n",
        "print(info)"
      ],
      "execution_count": null,
      "outputs": [
        {
          "output_type": "stream",
          "name": "stdout",
          "text": [
            "O valor de pi é = 3.24\n"
          ]
        }
      ]
    },
    {
      "cell_type": "markdown",
      "metadata": {
        "id": "Touki4Ldi3jt"
      },
      "source": [
        "slicing\n"
      ]
    },
    {
      "cell_type": "code",
      "metadata": {
        "colab": {
          "base_uri": "https://localhost:8080/"
        },
        "id": "R-04ii3pfVFj",
        "outputId": "78e2b8e3-45dd-44c1-8bc5-6da04fc930f6"
      },
      "source": [
        "r = 'Roney'\n",
        "nr = 'L' + r[1:]\n",
        "print(nr)"
      ],
      "execution_count": null,
      "outputs": [
        {
          "output_type": "stream",
          "name": "stdout",
          "text": [
            "Loney\n"
          ]
        }
      ]
    },
    {
      "cell_type": "code",
      "metadata": {
        "colab": {
          "base_uri": "https://localhost:8080/",
          "height": 35
        },
        "id": "0LvUZjzNkUPs",
        "outputId": "d72dcdad-2566-4a5a-fc7b-2fe6475fa8ae"
      },
      "source": [
        "string = \"Instituto de Ciências Matemáticas e da Computação\"\n",
        "string[1:10]"
      ],
      "execution_count": null,
      "outputs": [
        {
          "output_type": "execute_result",
          "data": {
            "application/vnd.google.colaboratory.intrinsic+json": {
              "type": "string"
            },
            "text/plain": [
              "'nstituto '"
            ]
          },
          "metadata": {},
          "execution_count": 5
        }
      ]
    },
    {
      "cell_type": "code",
      "metadata": {
        "colab": {
          "base_uri": "https://localhost:8080/",
          "height": 35
        },
        "id": "OABOE7q-mm1B",
        "outputId": "bfed9b81-030f-491c-f4d1-77e5cdd30294"
      },
      "source": [
        "string.upper()"
      ],
      "execution_count": null,
      "outputs": [
        {
          "output_type": "execute_result",
          "data": {
            "application/vnd.google.colaboratory.intrinsic+json": {
              "type": "string"
            },
            "text/plain": [
              "'INSTITUTO DE CIÊNCIAS MATEMÁTICAS E DA COMPUTAÇÃO'"
            ]
          },
          "metadata": {},
          "execution_count": 6
        }
      ]
    },
    {
      "cell_type": "code",
      "metadata": {
        "colab": {
          "base_uri": "https://localhost:8080/",
          "height": 35
        },
        "id": "XAPoCMBamtjT",
        "outputId": "b2e309a3-c17f-4d30-b832-05d47c61ea32"
      },
      "source": [
        "string.lower()"
      ],
      "execution_count": null,
      "outputs": [
        {
          "output_type": "execute_result",
          "data": {
            "application/vnd.google.colaboratory.intrinsic+json": {
              "type": "string"
            },
            "text/plain": [
              "'instituto de ciências matemáticas e da computação'"
            ]
          },
          "metadata": {},
          "execution_count": 7
        }
      ]
    },
    {
      "cell_type": "markdown",
      "metadata": {
        "id": "nvshg-aTnCd9"
      },
      "source": [
        "strip() - exclui os espaços existentes no início e no fim da string"
      ]
    },
    {
      "cell_type": "code",
      "metadata": {
        "colab": {
          "base_uri": "https://localhost:8080/",
          "height": 35
        },
        "id": "o8GhdgcinInd",
        "outputId": "4f781809-e3d4-41c4-f1fa-0a1516b9180e"
      },
      "source": [
        "r = ' Aula sobre strings '\n",
        "r.strip()"
      ],
      "execution_count": null,
      "outputs": [
        {
          "output_type": "execute_result",
          "data": {
            "application/vnd.google.colaboratory.intrinsic+json": {
              "type": "string"
            },
            "text/plain": [
              "'Aula sobre strings'"
            ]
          },
          "metadata": {},
          "execution_count": 9
        }
      ]
    },
    {
      "cell_type": "markdown",
      "metadata": {
        "id": "VvMWiCUnnSJs"
      },
      "source": [
        "replace() - substitui uma string com outra string"
      ]
    },
    {
      "cell_type": "code",
      "metadata": {
        "colab": {
          "base_uri": "https://localhost:8080/",
          "height": 35
        },
        "id": "JkDVShqxnYTk",
        "outputId": "bb5a50e9-e854-4b0e-e698-6554f0aa5ac1"
      },
      "source": [
        "string.replace('i','1')"
      ],
      "execution_count": null,
      "outputs": [
        {
          "output_type": "execute_result",
          "data": {
            "application/vnd.google.colaboratory.intrinsic+json": {
              "type": "string"
            },
            "text/plain": [
              "'Inst1tuto de C1ênc1as Matemát1cas e da Computação'"
            ]
          },
          "metadata": {},
          "execution_count": 10
        }
      ]
    },
    {
      "cell_type": "markdown",
      "metadata": {
        "id": "omuBVFAtoh1q"
      },
      "source": [
        "split() - retorna um conjunto de substrings em forma de lista"
      ]
    },
    {
      "cell_type": "code",
      "metadata": {
        "colab": {
          "base_uri": "https://localhost:8080/"
        },
        "id": "0_iRuMOlorwS",
        "outputId": "8c006aa5-45fb-4286-8547-fa021a9c1a7a"
      },
      "source": [
        "string.split()"
      ],
      "execution_count": null,
      "outputs": [
        {
          "output_type": "execute_result",
          "data": {
            "text/plain": [
              "['Instituto', 'de', 'Ciências', 'Matemáticas', 'e', 'da', 'Computação']"
            ]
          },
          "metadata": {},
          "execution_count": 12
        }
      ]
    },
    {
      "cell_type": "code",
      "metadata": {
        "colab": {
          "base_uri": "https://localhost:8080/"
        },
        "id": "xNg46pe0o_gw",
        "outputId": "a8ce128a-16a7-4a45-eb99-c0f8945f8eac"
      },
      "source": [
        "string.split('Matemáticas')"
      ],
      "execution_count": null,
      "outputs": [
        {
          "output_type": "execute_result",
          "data": {
            "text/plain": [
              "['Instituto de Ciências ', ' e da Computação']"
            ]
          },
          "metadata": {},
          "execution_count": 14
        }
      ]
    },
    {
      "cell_type": "code",
      "metadata": {
        "colab": {
          "base_uri": "https://localhost:8080/"
        },
        "id": "8Cls-Zlnpj4w",
        "outputId": "11ca887d-249e-48b2-e7b5-e0099ee37b07"
      },
      "source": [
        "len(string.split())"
      ],
      "execution_count": null,
      "outputs": [
        {
          "output_type": "execute_result",
          "data": {
            "text/plain": [
              "7"
            ]
          },
          "metadata": {},
          "execution_count": 15
        }
      ]
    },
    {
      "cell_type": "code",
      "metadata": {
        "colab": {
          "base_uri": "https://localhost:8080/"
        },
        "id": "xr_telwEqpTs",
        "outputId": "b70cfd3b-34aa-4424-e07c-7c80b582a897"
      },
      "source": [
        "lista_split = string.split()\n",
        "print(lista_split)\n",
        "juntar = \" \".join(lista_split)\n",
        "print(juntar)\n",
        "juntar1 = \"/\".join(lista_split)\n",
        "print(juntar1)"
      ],
      "execution_count": null,
      "outputs": [
        {
          "output_type": "stream",
          "name": "stdout",
          "text": [
            "['Instituto', 'de', 'Ciências', 'Matemáticas', 'e', 'da', 'Computação']\n",
            "Instituto de Ciências Matemáticas e da Computação\n",
            "Instituto/de/Ciências/Matemáticas/e/da/Computação\n"
          ]
        }
      ]
    }
  ]
}